{
 "cells": [
  {
   "cell_type": "markdown",
   "id": "3e789e10",
   "metadata": {
    "toc": true
   },
   "source": [
    "<h1><span class=\"tocSkip\"></span></h1>\n",
    "<div class=\"toc\"><ul class=\"toc-item\"></ul></div>"
   ]
  },
  {
   "cell_type": "code",
   "execution_count": 1,
   "id": "a283c7fb",
   "metadata": {},
   "outputs": [],
   "source": [
    "import pandas as pd"
   ]
  },
  {
   "cell_type": "code",
   "execution_count": 4,
   "id": "18c2a758",
   "metadata": {},
   "outputs": [],
   "source": [
    "df = pd.read_excel(r\"creditcardmarketing copy.xlsx\")"
   ]
  },
  {
   "cell_type": "code",
   "execution_count": 5,
   "id": "287b55ee",
   "metadata": {},
   "outputs": [
    {
     "name": "stdout",
     "output_type": "stream",
     "text": [
      "<class 'pandas.core.frame.DataFrame'>\n",
      "RangeIndex: 18000 entries, 0 to 17999\n",
      "Data columns (total 17 columns):\n",
      " #   Column                Non-Null Count  Dtype  \n",
      "---  ------                --------------  -----  \n",
      " 0   Customer Number       18000 non-null  int64  \n",
      " 1   Offer Accepted        18000 non-null  object \n",
      " 2   Reward                18000 non-null  object \n",
      " 3   Mailer Type           18000 non-null  object \n",
      " 4   Income Level          18000 non-null  object \n",
      " 5   # Bank Accounts Open  18000 non-null  int64  \n",
      " 6   Overdraft Protection  18000 non-null  object \n",
      " 7   Credit Rating         18000 non-null  object \n",
      " 8   # Credit Cards Held   18000 non-null  int64  \n",
      " 9   # Homes Owned         18000 non-null  int64  \n",
      " 10  Household Size        18000 non-null  int64  \n",
      " 11  Own Your Home         18000 non-null  object \n",
      " 12  Average Balance       17976 non-null  float64\n",
      " 13  Q1 Balance            17976 non-null  float64\n",
      " 14  Q2 Balance            17976 non-null  float64\n",
      " 15  Q3 Balance            17976 non-null  float64\n",
      " 16  Q4 Balance            17976 non-null  float64\n",
      "dtypes: float64(5), int64(5), object(7)\n",
      "memory usage: 2.3+ MB\n"
     ]
    }
   ],
   "source": [
    "df.info()"
   ]
  },
  {
   "cell_type": "code",
   "execution_count": 7,
   "id": "ecaf802e",
   "metadata": {},
   "outputs": [],
   "source": [
    "df.to_csv(r'hjgljhl.csv', index = False, header = True)\n"
   ]
  },
  {
   "cell_type": "code",
   "execution_count": 20,
   "id": "c7da3ed7",
   "metadata": {},
   "outputs": [
    {
     "data": {
      "text/plain": [
       "          24\n",
       "81.0      23\n",
       "675.0     23\n",
       "676.0     22\n",
       "823.0     22\n",
       "          ..\n",
       "1383.0     1\n",
       "1197.0     1\n",
       "1164.0     1\n",
       "1118.0     1\n",
       "1070.0     1\n",
       "Name: Q1 Balance, Length: 2159, dtype: int64"
      ]
     },
     "execution_count": 20,
     "metadata": {},
     "output_type": "execute_result"
    }
   ],
   "source": [
    "df.fillna('', inplace=True)\n",
    "df['Q1 Balance'].value_counts()"
   ]
  },
  {
   "cell_type": "code",
   "execution_count": null,
   "id": "6334faa7",
   "metadata": {},
   "outputs": [],
   "source": [
    "df1 = pd.read_csv('creditcardmarketingcopy.csv')"
   ]
  },
  {
   "cell_type": "code",
   "execution_count": 9,
   "id": "61252d97",
   "metadata": {},
   "outputs": [
    {
     "name": "stdout",
     "output_type": "stream",
     "text": [
      "<class 'pandas.core.frame.DataFrame'>\n",
      "RangeIndex: 17999 entries, 0 to 17998\n",
      "Data columns (total 17 columns):\n",
      " #   Column     Non-Null Count  Dtype  \n",
      "---  ------     --------------  -----  \n",
      " 0   1          17999 non-null  int64  \n",
      " 1   No         17999 non-null  object \n",
      " 2   Air Miles  17999 non-null  object \n",
      " 3   Letter     17999 non-null  object \n",
      " 4   High       17999 non-null  object \n",
      " 5   1.1        17999 non-null  int64  \n",
      " 6   No.1       17999 non-null  object \n",
      " 7   High.1     17999 non-null  object \n",
      " 8   2          17999 non-null  int64  \n",
      " 9   1.2        17999 non-null  int64  \n",
      " 10  4          17999 non-null  int64  \n",
      " 11  No.2       17999 non-null  object \n",
      " 12  1160.75    17975 non-null  float64\n",
      " 13  1669       17975 non-null  float64\n",
      " 14  877        17975 non-null  float64\n",
      " 15  1095       17975 non-null  float64\n",
      " 16  1002       17975 non-null  float64\n",
      "dtypes: float64(5), int64(5), object(7)\n",
      "memory usage: 2.3+ MB\n"
     ]
    }
   ],
   "source": [
    "df1.info()"
   ]
  },
  {
   "cell_type": "code",
   "execution_count": null,
   "id": "96e8359d",
   "metadata": {},
   "outputs": [],
   "source": []
  }
 ],
 "metadata": {
  "kernelspec": {
   "display_name": "Python 3 (ipykernel)",
   "language": "python",
   "name": "python3"
  },
  "language_info": {
   "codemirror_mode": {
    "name": "ipython",
    "version": 3
   },
   "file_extension": ".py",
   "mimetype": "text/x-python",
   "name": "python",
   "nbconvert_exporter": "python",
   "pygments_lexer": "ipython3",
   "version": "3.9.7"
  },
  "toc": {
   "base_numbering": 1,
   "nav_menu": {},
   "number_sections": true,
   "sideBar": false,
   "skip_h1_title": false,
   "title_cell": "",
   "title_sidebar": "Contents",
   "toc_cell": true,
   "toc_position": {},
   "toc_section_display": true,
   "toc_window_display": false
  }
 },
 "nbformat": 4,
 "nbformat_minor": 5
}
