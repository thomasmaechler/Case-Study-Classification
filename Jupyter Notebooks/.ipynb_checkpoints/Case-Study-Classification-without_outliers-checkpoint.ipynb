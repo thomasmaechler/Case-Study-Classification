{
 "cells": [
  {
   "cell_type": "markdown",
   "id": "3e789e10",
   "metadata": {
    "toc": true
   },
   "source": [
    "<h1><span class=\"tocSkip\"></span></h1>\n",
    "<div class=\"toc\"><ul class=\"toc-item\"><li><span><a href=\"#Case-Study---Classification\" data-toc-modified-id=\"Case-Study---Classification-1\"><span class=\"toc-item-num\">1&nbsp;&nbsp;</span>Case Study - Classification</a></span><ul class=\"toc-item\"><li><span><a href=\"#Preparing-the-Dataset\" data-toc-modified-id=\"Preparing-the-Dataset-1.1\"><span class=\"toc-item-num\">1.1&nbsp;&nbsp;</span>Preparing the Dataset</a></span></li><li><span><a href=\"#Exploratory-Data-Analysis-(EDA)\" data-toc-modified-id=\"Exploratory-Data-Analysis-(EDA)-1.2\"><span class=\"toc-item-num\">1.2&nbsp;&nbsp;</span>Exploratory Data Analysis (EDA)</a></span><ul class=\"toc-item\"><li><span><a href=\"#Dealing-with-Nulls\" data-toc-modified-id=\"Dealing-with-Nulls-1.2.1\"><span class=\"toc-item-num\">1.2.1&nbsp;&nbsp;</span>Dealing with Nulls</a></span></li><li><span><a href=\"#Quick-check-of-irrelevant-columns\" data-toc-modified-id=\"Quick-check-of-irrelevant-columns-1.2.2\"><span class=\"toc-item-num\">1.2.2&nbsp;&nbsp;</span>Quick check of irrelevant columns</a></span></li><li><span><a href=\"#Overlooking-of-numerical-columns\" data-toc-modified-id=\"Overlooking-of-numerical-columns-1.2.3\"><span class=\"toc-item-num\">1.2.3&nbsp;&nbsp;</span>Overlooking of numerical columns</a></span></li><li><span><a href=\"#Correlations\" data-toc-modified-id=\"Correlations-1.2.4\"><span class=\"toc-item-num\">1.2.4&nbsp;&nbsp;</span>Correlations</a></span></li><li><span><a href=\"#Dealing-with-Outliers\" data-toc-modified-id=\"Dealing-with-Outliers-1.2.5\"><span class=\"toc-item-num\">1.2.5&nbsp;&nbsp;</span>Dealing with Outliers</a></span></li><li><span><a href=\"#Numerical-and-Categorical-Columns\" data-toc-modified-id=\"Numerical-and-Categorical-Columns-1.2.6\"><span class=\"toc-item-num\">1.2.6&nbsp;&nbsp;</span>Numerical and Categorical Columns</a></span><ul class=\"toc-item\"><li><span><a href=\"#Preprocessing-numerical-columns\" data-toc-modified-id=\"Preprocessing-numerical-columns-1.2.6.1\"><span class=\"toc-item-num\">1.2.6.1&nbsp;&nbsp;</span>Preprocessing numerical columns</a></span></li><li><span><a href=\"#Preprocessing-categorical-columns\" data-toc-modified-id=\"Preprocessing-categorical-columns-1.2.6.2\"><span class=\"toc-item-num\">1.2.6.2&nbsp;&nbsp;</span>Preprocessing categorical columns</a></span></li></ul></li></ul></li><li><span><a href=\"#DataFrame-after-preprocessing\" data-toc-modified-id=\"DataFrame-after-preprocessing-1.3\"><span class=\"toc-item-num\">1.3&nbsp;&nbsp;</span>DataFrame after preprocessing</a></span></li><li><span><a href=\"#Modelling-with-Logistic-Regression\" data-toc-modified-id=\"Modelling-with-Logistic-Regression-1.4\"><span class=\"toc-item-num\">1.4&nbsp;&nbsp;</span>Modelling with Logistic Regression</a></span><ul class=\"toc-item\"><li><span><a href=\"#Split-data-into-train---test\" data-toc-modified-id=\"Split-data-into-train---test-1.4.1\"><span class=\"toc-item-num\">1.4.1&nbsp;&nbsp;</span>Split data into train - test</a></span></li><li><span><a href=\"#Fit-train-to-the-model\" data-toc-modified-id=\"Fit-train-to-the-model-1.4.2\"><span class=\"toc-item-num\">1.4.2&nbsp;&nbsp;</span>Fit train to the model</a></span></li><li><span><a href=\"#Over-Samling-Method---SMOTE\" data-toc-modified-id=\"Over-Samling-Method---SMOTE-1.4.3\"><span class=\"toc-item-num\">1.4.3&nbsp;&nbsp;</span>Over Samling Method - SMOTE</a></span></li><li><span><a href=\"#Under-Sampling---Tomek-Link\" data-toc-modified-id=\"Under-Sampling---Tomek-Link-1.4.4\"><span class=\"toc-item-num\">1.4.4&nbsp;&nbsp;</span>Under Sampling - Tomek Link</a></span></li><li><span><a href=\"#Mixed-Sampling-Methods---SMOTE-followed-by-Tomek-Link\" data-toc-modified-id=\"Mixed-Sampling-Methods---SMOTE-followed-by-Tomek-Link-1.4.5\"><span class=\"toc-item-num\">1.4.5&nbsp;&nbsp;</span>Mixed Sampling Methods - SMOTE followed by Tomek Link</a></span></li><li><span><a href=\"#KNN-Classifier\" data-toc-modified-id=\"KNN-Classifier-1.4.6\"><span class=\"toc-item-num\">1.4.6&nbsp;&nbsp;</span>KNN Classifier</a></span></li></ul></li></ul></li></ul></div>"
   ]
  },
  {
   "cell_type": "markdown",
   "id": "0a3b329e",
   "metadata": {},
   "source": [
    "# Case Study - Classification"
   ]
  },
  {
   "cell_type": "markdown",
   "id": "b61633b2",
   "metadata": {},
   "source": [
    "## Preparing the Dataset"
   ]
  },
  {
   "cell_type": "markdown",
   "id": "8d2e6974",
   "metadata": {},
   "source": [
    "First things first, let's import necessary libraries to be able to prepare our dataset, like reading the csv file by pandas and perform some codes to understand it better."
   ]
  },
  {
   "cell_type": "code",
   "execution_count": 1,
   "id": "a283c7fb",
   "metadata": {},
   "outputs": [],
   "source": [
    "import pandas as pd\n",
    "import seaborn as sns\n",
    "import numpy as np\n",
    "import matplotlib.pyplot as plt"
   ]
  },
  {
   "cell_type": "code",
   "execution_count": 2,
   "id": "18c2a758",
   "metadata": {},
   "outputs": [],
   "source": [
    "df = pd.read_excel(r\"creditcardmarketing.xlsx\")"
   ]
  },
  {
   "cell_type": "code",
   "execution_count": 3,
   "id": "287b55ee",
   "metadata": {},
   "outputs": [
    {
     "name": "stdout",
     "output_type": "stream",
     "text": [
      "<class 'pandas.core.frame.DataFrame'>\n",
      "RangeIndex: 18000 entries, 0 to 17999\n",
      "Data columns (total 17 columns):\n",
      " #   Column                Non-Null Count  Dtype  \n",
      "---  ------                --------------  -----  \n",
      " 0   Customer Number       18000 non-null  int64  \n",
      " 1   Offer Accepted        18000 non-null  object \n",
      " 2   Reward                18000 non-null  object \n",
      " 3   Mailer Type           18000 non-null  object \n",
      " 4   Income Level          18000 non-null  object \n",
      " 5   # Bank Accounts Open  18000 non-null  int64  \n",
      " 6   Overdraft Protection  18000 non-null  object \n",
      " 7   Credit Rating         18000 non-null  object \n",
      " 8   # Credit Cards Held   18000 non-null  int64  \n",
      " 9   # Homes Owned         18000 non-null  int64  \n",
      " 10  Household Size        18000 non-null  int64  \n",
      " 11  Own Your Home         18000 non-null  object \n",
      " 12  Average Balance       17976 non-null  float64\n",
      " 13  Q1 Balance            17976 non-null  float64\n",
      " 14  Q2 Balance            17976 non-null  float64\n",
      " 15  Q3 Balance            17976 non-null  float64\n",
      " 16  Q4 Balance            17976 non-null  float64\n",
      "dtypes: float64(5), int64(5), object(7)\n",
      "memory usage: 2.3+ MB\n"
     ]
    }
   ],
   "source": [
    "df.info()"
   ]
  },
  {
   "cell_type": "code",
   "execution_count": 4,
   "id": "9b317a6b",
   "metadata": {},
   "outputs": [
    {
     "data": {
      "text/html": [
       "<div>\n",
       "<style scoped>\n",
       "    .dataframe tbody tr th:only-of-type {\n",
       "        vertical-align: middle;\n",
       "    }\n",
       "\n",
       "    .dataframe tbody tr th {\n",
       "        vertical-align: top;\n",
       "    }\n",
       "\n",
       "    .dataframe thead th {\n",
       "        text-align: right;\n",
       "    }\n",
       "</style>\n",
       "<table border=\"1\" class=\"dataframe\">\n",
       "  <thead>\n",
       "    <tr style=\"text-align: right;\">\n",
       "      <th></th>\n",
       "      <th>Customer Number</th>\n",
       "      <th>Offer Accepted</th>\n",
       "      <th>Reward</th>\n",
       "      <th>Mailer Type</th>\n",
       "      <th>Income Level</th>\n",
       "      <th># Bank Accounts Open</th>\n",
       "      <th>Overdraft Protection</th>\n",
       "      <th>Credit Rating</th>\n",
       "      <th># Credit Cards Held</th>\n",
       "      <th># Homes Owned</th>\n",
       "      <th>Household Size</th>\n",
       "      <th>Own Your Home</th>\n",
       "      <th>Average Balance</th>\n",
       "      <th>Q1 Balance</th>\n",
       "      <th>Q2 Balance</th>\n",
       "      <th>Q3 Balance</th>\n",
       "      <th>Q4 Balance</th>\n",
       "    </tr>\n",
       "  </thead>\n",
       "  <tbody>\n",
       "    <tr>\n",
       "      <th>0</th>\n",
       "      <td>1</td>\n",
       "      <td>No</td>\n",
       "      <td>Air Miles</td>\n",
       "      <td>Letter</td>\n",
       "      <td>High</td>\n",
       "      <td>1</td>\n",
       "      <td>No</td>\n",
       "      <td>High</td>\n",
       "      <td>2</td>\n",
       "      <td>1</td>\n",
       "      <td>4</td>\n",
       "      <td>No</td>\n",
       "      <td>1160.75</td>\n",
       "      <td>1669.0</td>\n",
       "      <td>877.0</td>\n",
       "      <td>1095.0</td>\n",
       "      <td>1002.0</td>\n",
       "    </tr>\n",
       "    <tr>\n",
       "      <th>1</th>\n",
       "      <td>2</td>\n",
       "      <td>No</td>\n",
       "      <td>Air Miles</td>\n",
       "      <td>Letter</td>\n",
       "      <td>Medium</td>\n",
       "      <td>1</td>\n",
       "      <td>No</td>\n",
       "      <td>Medium</td>\n",
       "      <td>2</td>\n",
       "      <td>2</td>\n",
       "      <td>5</td>\n",
       "      <td>Yes</td>\n",
       "      <td>147.25</td>\n",
       "      <td>39.0</td>\n",
       "      <td>106.0</td>\n",
       "      <td>78.0</td>\n",
       "      <td>366.0</td>\n",
       "    </tr>\n",
       "    <tr>\n",
       "      <th>2</th>\n",
       "      <td>3</td>\n",
       "      <td>No</td>\n",
       "      <td>Air Miles</td>\n",
       "      <td>Postcard</td>\n",
       "      <td>High</td>\n",
       "      <td>2</td>\n",
       "      <td>No</td>\n",
       "      <td>Medium</td>\n",
       "      <td>2</td>\n",
       "      <td>1</td>\n",
       "      <td>2</td>\n",
       "      <td>Yes</td>\n",
       "      <td>276.50</td>\n",
       "      <td>367.0</td>\n",
       "      <td>352.0</td>\n",
       "      <td>145.0</td>\n",
       "      <td>242.0</td>\n",
       "    </tr>\n",
       "    <tr>\n",
       "      <th>3</th>\n",
       "      <td>4</td>\n",
       "      <td>No</td>\n",
       "      <td>Air Miles</td>\n",
       "      <td>Letter</td>\n",
       "      <td>Medium</td>\n",
       "      <td>2</td>\n",
       "      <td>No</td>\n",
       "      <td>High</td>\n",
       "      <td>1</td>\n",
       "      <td>1</td>\n",
       "      <td>4</td>\n",
       "      <td>No</td>\n",
       "      <td>1219.00</td>\n",
       "      <td>1578.0</td>\n",
       "      <td>1760.0</td>\n",
       "      <td>1119.0</td>\n",
       "      <td>419.0</td>\n",
       "    </tr>\n",
       "    <tr>\n",
       "      <th>4</th>\n",
       "      <td>5</td>\n",
       "      <td>No</td>\n",
       "      <td>Air Miles</td>\n",
       "      <td>Letter</td>\n",
       "      <td>Medium</td>\n",
       "      <td>1</td>\n",
       "      <td>No</td>\n",
       "      <td>Medium</td>\n",
       "      <td>2</td>\n",
       "      <td>1</td>\n",
       "      <td>6</td>\n",
       "      <td>Yes</td>\n",
       "      <td>1211.00</td>\n",
       "      <td>2140.0</td>\n",
       "      <td>1357.0</td>\n",
       "      <td>982.0</td>\n",
       "      <td>365.0</td>\n",
       "    </tr>\n",
       "  </tbody>\n",
       "</table>\n",
       "</div>"
      ],
      "text/plain": [
       "   Customer Number Offer Accepted     Reward Mailer Type Income Level  \\\n",
       "0                1             No  Air Miles      Letter         High   \n",
       "1                2             No  Air Miles      Letter       Medium   \n",
       "2                3             No  Air Miles    Postcard         High   \n",
       "3                4             No  Air Miles      Letter       Medium   \n",
       "4                5             No  Air Miles      Letter       Medium   \n",
       "\n",
       "   # Bank Accounts Open Overdraft Protection Credit Rating  \\\n",
       "0                     1                   No          High   \n",
       "1                     1                   No        Medium   \n",
       "2                     2                   No        Medium   \n",
       "3                     2                   No          High   \n",
       "4                     1                   No        Medium   \n",
       "\n",
       "   # Credit Cards Held  # Homes Owned  Household Size Own Your Home  \\\n",
       "0                    2              1               4            No   \n",
       "1                    2              2               5           Yes   \n",
       "2                    2              1               2           Yes   \n",
       "3                    1              1               4            No   \n",
       "4                    2              1               6           Yes   \n",
       "\n",
       "   Average Balance  Q1 Balance  Q2 Balance  Q3 Balance  Q4 Balance  \n",
       "0          1160.75      1669.0       877.0      1095.0      1002.0  \n",
       "1           147.25        39.0       106.0        78.0       366.0  \n",
       "2           276.50       367.0       352.0       145.0       242.0  \n",
       "3          1219.00      1578.0      1760.0      1119.0       419.0  \n",
       "4          1211.00      2140.0      1357.0       982.0       365.0  "
      ]
     },
     "execution_count": 4,
     "metadata": {},
     "output_type": "execute_result"
    }
   ],
   "source": [
    "df.head()"
   ]
  },
  {
   "cell_type": "code",
   "execution_count": 5,
   "id": "3ed58bd3",
   "metadata": {},
   "outputs": [
    {
     "data": {
      "text/plain": [
       "(18000, 17)"
      ]
     },
     "execution_count": 5,
     "metadata": {},
     "output_type": "execute_result"
    }
   ],
   "source": [
    "df.shape"
   ]
  },
  {
   "cell_type": "markdown",
   "id": "b92a9666",
   "metadata": {},
   "source": [
    "## Exploratory Data Analysis (EDA)"
   ]
  },
  {
   "cell_type": "code",
   "execution_count": 6,
   "id": "96e8359d",
   "metadata": {},
   "outputs": [],
   "source": [
    "# standardize column names of the data by making all of them lower case and replace '#' and spaces with '_'.\n",
    "\n",
    "df.columns = df.columns.str.lower().str.replace(' ','_').str.replace('#','no_of')"
   ]
  },
  {
   "cell_type": "code",
   "execution_count": 7,
   "id": "604dedeb",
   "metadata": {},
   "outputs": [
    {
     "name": "stdout",
     "output_type": "stream",
     "text": [
      "<class 'pandas.core.frame.DataFrame'>\n",
      "RangeIndex: 18000 entries, 0 to 17999\n",
      "Data columns (total 17 columns):\n",
      " #   Column                    Non-Null Count  Dtype  \n",
      "---  ------                    --------------  -----  \n",
      " 0   customer_number           18000 non-null  int64  \n",
      " 1   offer_accepted            18000 non-null  object \n",
      " 2   reward                    18000 non-null  object \n",
      " 3   mailer_type               18000 non-null  object \n",
      " 4   income_level              18000 non-null  object \n",
      " 5   no_of_bank_accounts_open  18000 non-null  int64  \n",
      " 6   overdraft_protection      18000 non-null  object \n",
      " 7   credit_rating             18000 non-null  object \n",
      " 8   no_of_credit_cards_held   18000 non-null  int64  \n",
      " 9   no_of_homes_owned         18000 non-null  int64  \n",
      " 10  household_size            18000 non-null  int64  \n",
      " 11  own_your_home             18000 non-null  object \n",
      " 12  average_balance           17976 non-null  float64\n",
      " 13  q1_balance                17976 non-null  float64\n",
      " 14  q2_balance                17976 non-null  float64\n",
      " 15  q3_balance                17976 non-null  float64\n",
      " 16  q4_balance                17976 non-null  float64\n",
      "dtypes: float64(5), int64(5), object(7)\n",
      "memory usage: 2.3+ MB\n"
     ]
    }
   ],
   "source": [
    "df.info()"
   ]
  },
  {
   "cell_type": "code",
   "execution_count": 8,
   "id": "c620883c",
   "metadata": {},
   "outputs": [
    {
     "data": {
      "text/plain": [
       "No     16977\n",
       "Yes     1023\n",
       "Name: offer_accepted, dtype: int64"
      ]
     },
     "execution_count": 8,
     "metadata": {},
     "output_type": "execute_result"
    }
   ],
   "source": [
    "# 'offer_accepted' column is our target variable, so we need to explore it.\n",
    "# This shows we have an imbalanced data.\n",
    "# 'No' : majority class\n",
    "# 'Yes': minority class \n",
    "\n",
    "df['offer_accepted'].value_counts()"
   ]
  },
  {
   "cell_type": "markdown",
   "id": "00089f84",
   "metadata": {},
   "source": [
    "### Dealing with Nulls"
   ]
  },
  {
   "cell_type": "code",
   "execution_count": 9,
   "id": "0f4d88f8",
   "metadata": {},
   "outputs": [
    {
     "data": {
      "text/plain": [
       "No     16955\n",
       "Yes     1021\n",
       "Name: offer_accepted, dtype: int64"
      ]
     },
     "execution_count": 9,
     "metadata": {},
     "output_type": "execute_result"
    }
   ],
   "source": [
    "# We dropped 24 rows containing nulls because we noticed that most of them are from majority class and won't \n",
    "# affect the result of our model that much.\n",
    "\n",
    "df = df.dropna()\n",
    "\n",
    "df['offer_accepted'].value_counts()"
   ]
  },
  {
   "cell_type": "code",
   "execution_count": 10,
   "id": "8d7f5ef1",
   "metadata": {},
   "outputs": [
    {
     "name": "stdout",
     "output_type": "stream",
     "text": [
      "<class 'pandas.core.frame.DataFrame'>\n",
      "Int64Index: 17976 entries, 0 to 17999\n",
      "Data columns (total 17 columns):\n",
      " #   Column                    Non-Null Count  Dtype  \n",
      "---  ------                    --------------  -----  \n",
      " 0   customer_number           17976 non-null  int64  \n",
      " 1   offer_accepted            17976 non-null  object \n",
      " 2   reward                    17976 non-null  object \n",
      " 3   mailer_type               17976 non-null  object \n",
      " 4   income_level              17976 non-null  object \n",
      " 5   no_of_bank_accounts_open  17976 non-null  int64  \n",
      " 6   overdraft_protection      17976 non-null  object \n",
      " 7   credit_rating             17976 non-null  object \n",
      " 8   no_of_credit_cards_held   17976 non-null  int64  \n",
      " 9   no_of_homes_owned         17976 non-null  int64  \n",
      " 10  household_size            17976 non-null  int64  \n",
      " 11  own_your_home             17976 non-null  object \n",
      " 12  average_balance           17976 non-null  float64\n",
      " 13  q1_balance                17976 non-null  float64\n",
      " 14  q2_balance                17976 non-null  float64\n",
      " 15  q3_balance                17976 non-null  float64\n",
      " 16  q4_balance                17976 non-null  float64\n",
      "dtypes: float64(5), int64(5), object(7)\n",
      "memory usage: 2.5+ MB\n"
     ]
    }
   ],
   "source": [
    "df.info()"
   ]
  },
  {
   "cell_type": "code",
   "execution_count": 11,
   "id": "727293b5",
   "metadata": {},
   "outputs": [
    {
     "name": "stdout",
     "output_type": "stream",
     "text": [
      "<class 'pandas.core.frame.DataFrame'>\n",
      "RangeIndex: 17976 entries, 0 to 17975\n",
      "Data columns (total 17 columns):\n",
      " #   Column                    Non-Null Count  Dtype  \n",
      "---  ------                    --------------  -----  \n",
      " 0   customer_number           17976 non-null  int64  \n",
      " 1   offer_accepted            17976 non-null  object \n",
      " 2   reward                    17976 non-null  object \n",
      " 3   mailer_type               17976 non-null  object \n",
      " 4   income_level              17976 non-null  object \n",
      " 5   no_of_bank_accounts_open  17976 non-null  int64  \n",
      " 6   overdraft_protection      17976 non-null  object \n",
      " 7   credit_rating             17976 non-null  object \n",
      " 8   no_of_credit_cards_held   17976 non-null  int64  \n",
      " 9   no_of_homes_owned         17976 non-null  int64  \n",
      " 10  household_size            17976 non-null  int64  \n",
      " 11  own_your_home             17976 non-null  object \n",
      " 12  average_balance           17976 non-null  float64\n",
      " 13  q1_balance                17976 non-null  float64\n",
      " 14  q2_balance                17976 non-null  float64\n",
      " 15  q3_balance                17976 non-null  float64\n",
      " 16  q4_balance                17976 non-null  float64\n",
      "dtypes: float64(5), int64(5), object(7)\n",
      "memory usage: 2.3+ MB\n"
     ]
    }
   ],
   "source": [
    "# After dropping rows, it is safer to reset index in case of having problems later with the modelling. \n",
    "\n",
    "df.reset_index(drop=True, inplace=True)\n",
    "df.info()"
   ]
  },
  {
   "cell_type": "markdown",
   "id": "245f9b22",
   "metadata": {},
   "source": [
    "### Quick check of irrelevant columns"
   ]
  },
  {
   "cell_type": "code",
   "execution_count": 12,
   "id": "08ab25a1",
   "metadata": {},
   "outputs": [
    {
     "data": {
      "text/html": [
       "<div>\n",
       "<style scoped>\n",
       "    .dataframe tbody tr th:only-of-type {\n",
       "        vertical-align: middle;\n",
       "    }\n",
       "\n",
       "    .dataframe tbody tr th {\n",
       "        vertical-align: top;\n",
       "    }\n",
       "\n",
       "    .dataframe thead th {\n",
       "        text-align: right;\n",
       "    }\n",
       "</style>\n",
       "<table border=\"1\" class=\"dataframe\">\n",
       "  <thead>\n",
       "    <tr style=\"text-align: right;\">\n",
       "      <th></th>\n",
       "      <th>customer_number</th>\n",
       "      <th>no_of_bank_accounts_open</th>\n",
       "      <th>no_of_credit_cards_held</th>\n",
       "      <th>no_of_homes_owned</th>\n",
       "      <th>household_size</th>\n",
       "      <th>average_balance</th>\n",
       "      <th>q1_balance</th>\n",
       "      <th>q2_balance</th>\n",
       "      <th>q3_balance</th>\n",
       "      <th>q4_balance</th>\n",
       "    </tr>\n",
       "  </thead>\n",
       "  <tbody>\n",
       "    <tr>\n",
       "      <th>count</th>\n",
       "      <td>17976.000000</td>\n",
       "      <td>17976.000000</td>\n",
       "      <td>17976.000000</td>\n",
       "      <td>17976.000000</td>\n",
       "      <td>17976.000000</td>\n",
       "      <td>17976.000000</td>\n",
       "      <td>17976.000000</td>\n",
       "      <td>17976.000000</td>\n",
       "      <td>17976.000000</td>\n",
       "      <td>17976.000000</td>\n",
       "    </tr>\n",
       "    <tr>\n",
       "      <th>mean</th>\n",
       "      <td>8999.727192</td>\n",
       "      <td>1.255730</td>\n",
       "      <td>1.903427</td>\n",
       "      <td>1.203549</td>\n",
       "      <td>3.499110</td>\n",
       "      <td>940.515562</td>\n",
       "      <td>910.450656</td>\n",
       "      <td>999.392190</td>\n",
       "      <td>1042.033600</td>\n",
       "      <td>810.185803</td>\n",
       "    </tr>\n",
       "    <tr>\n",
       "      <th>std</th>\n",
       "      <td>5196.958865</td>\n",
       "      <td>0.472405</td>\n",
       "      <td>0.797086</td>\n",
       "      <td>0.427446</td>\n",
       "      <td>1.114476</td>\n",
       "      <td>350.297837</td>\n",
       "      <td>620.077060</td>\n",
       "      <td>457.402268</td>\n",
       "      <td>553.452599</td>\n",
       "      <td>559.001365</td>\n",
       "    </tr>\n",
       "    <tr>\n",
       "      <th>min</th>\n",
       "      <td>1.000000</td>\n",
       "      <td>1.000000</td>\n",
       "      <td>1.000000</td>\n",
       "      <td>1.000000</td>\n",
       "      <td>1.000000</td>\n",
       "      <td>48.250000</td>\n",
       "      <td>0.000000</td>\n",
       "      <td>0.000000</td>\n",
       "      <td>0.000000</td>\n",
       "      <td>0.000000</td>\n",
       "    </tr>\n",
       "    <tr>\n",
       "      <th>25%</th>\n",
       "      <td>4498.750000</td>\n",
       "      <td>1.000000</td>\n",
       "      <td>1.000000</td>\n",
       "      <td>1.000000</td>\n",
       "      <td>3.000000</td>\n",
       "      <td>787.500000</td>\n",
       "      <td>392.750000</td>\n",
       "      <td>663.000000</td>\n",
       "      <td>633.000000</td>\n",
       "      <td>363.000000</td>\n",
       "    </tr>\n",
       "    <tr>\n",
       "      <th>50%</th>\n",
       "      <td>9000.500000</td>\n",
       "      <td>1.000000</td>\n",
       "      <td>2.000000</td>\n",
       "      <td>1.000000</td>\n",
       "      <td>3.000000</td>\n",
       "      <td>1007.000000</td>\n",
       "      <td>772.000000</td>\n",
       "      <td>1032.000000</td>\n",
       "      <td>945.500000</td>\n",
       "      <td>703.000000</td>\n",
       "    </tr>\n",
       "    <tr>\n",
       "      <th>75%</th>\n",
       "      <td>13501.250000</td>\n",
       "      <td>1.000000</td>\n",
       "      <td>2.000000</td>\n",
       "      <td>1.000000</td>\n",
       "      <td>4.000000</td>\n",
       "      <td>1153.250000</td>\n",
       "      <td>1521.000000</td>\n",
       "      <td>1342.000000</td>\n",
       "      <td>1463.000000</td>\n",
       "      <td>1212.000000</td>\n",
       "    </tr>\n",
       "    <tr>\n",
       "      <th>max</th>\n",
       "      <td>18000.000000</td>\n",
       "      <td>3.000000</td>\n",
       "      <td>4.000000</td>\n",
       "      <td>3.000000</td>\n",
       "      <td>9.000000</td>\n",
       "      <td>3366.250000</td>\n",
       "      <td>3450.000000</td>\n",
       "      <td>3421.000000</td>\n",
       "      <td>3823.000000</td>\n",
       "      <td>4215.000000</td>\n",
       "    </tr>\n",
       "  </tbody>\n",
       "</table>\n",
       "</div>"
      ],
      "text/plain": [
       "       customer_number  no_of_bank_accounts_open  no_of_credit_cards_held  \\\n",
       "count     17976.000000              17976.000000             17976.000000   \n",
       "mean       8999.727192                  1.255730                 1.903427   \n",
       "std        5196.958865                  0.472405                 0.797086   \n",
       "min           1.000000                  1.000000                 1.000000   \n",
       "25%        4498.750000                  1.000000                 1.000000   \n",
       "50%        9000.500000                  1.000000                 2.000000   \n",
       "75%       13501.250000                  1.000000                 2.000000   \n",
       "max       18000.000000                  3.000000                 4.000000   \n",
       "\n",
       "       no_of_homes_owned  household_size  average_balance    q1_balance  \\\n",
       "count       17976.000000    17976.000000     17976.000000  17976.000000   \n",
       "mean            1.203549        3.499110       940.515562    910.450656   \n",
       "std             0.427446        1.114476       350.297837    620.077060   \n",
       "min             1.000000        1.000000        48.250000      0.000000   \n",
       "25%             1.000000        3.000000       787.500000    392.750000   \n",
       "50%             1.000000        3.000000      1007.000000    772.000000   \n",
       "75%             1.000000        4.000000      1153.250000   1521.000000   \n",
       "max             3.000000        9.000000      3366.250000   3450.000000   \n",
       "\n",
       "         q2_balance    q3_balance    q4_balance  \n",
       "count  17976.000000  17976.000000  17976.000000  \n",
       "mean     999.392190   1042.033600    810.185803  \n",
       "std      457.402268    553.452599    559.001365  \n",
       "min        0.000000      0.000000      0.000000  \n",
       "25%      663.000000    633.000000    363.000000  \n",
       "50%     1032.000000    945.500000    703.000000  \n",
       "75%     1342.000000   1463.000000   1212.000000  \n",
       "max     3421.000000   3823.000000   4215.000000  "
      ]
     },
     "execution_count": 12,
     "metadata": {},
     "output_type": "execute_result"
    }
   ],
   "source": [
    "df.describe()"
   ]
  },
  {
   "cell_type": "code",
   "execution_count": 13,
   "id": "ec943ad3",
   "metadata": {},
   "outputs": [],
   "source": [
    "# We decided to drop the 'customer_number' column because it couldn't have any impact on the response.\n",
    "\n",
    "df = df.drop(['customer_number'], axis = 1)"
   ]
  },
  {
   "cell_type": "code",
   "execution_count": 14,
   "id": "674405b0",
   "metadata": {},
   "outputs": [
    {
     "name": "stdout",
     "output_type": "stream",
     "text": [
      "<class 'pandas.core.frame.DataFrame'>\n",
      "RangeIndex: 17976 entries, 0 to 17975\n",
      "Data columns (total 16 columns):\n",
      " #   Column                    Non-Null Count  Dtype  \n",
      "---  ------                    --------------  -----  \n",
      " 0   offer_accepted            17976 non-null  object \n",
      " 1   reward                    17976 non-null  object \n",
      " 2   mailer_type               17976 non-null  object \n",
      " 3   income_level              17976 non-null  object \n",
      " 4   no_of_bank_accounts_open  17976 non-null  int64  \n",
      " 5   overdraft_protection      17976 non-null  object \n",
      " 6   credit_rating             17976 non-null  object \n",
      " 7   no_of_credit_cards_held   17976 non-null  int64  \n",
      " 8   no_of_homes_owned         17976 non-null  int64  \n",
      " 9   household_size            17976 non-null  int64  \n",
      " 10  own_your_home             17976 non-null  object \n",
      " 11  average_balance           17976 non-null  float64\n",
      " 12  q1_balance                17976 non-null  float64\n",
      " 13  q2_balance                17976 non-null  float64\n",
      " 14  q3_balance                17976 non-null  float64\n",
      " 15  q4_balance                17976 non-null  float64\n",
      "dtypes: float64(5), int64(4), object(7)\n",
      "memory usage: 2.2+ MB\n"
     ]
    }
   ],
   "source": [
    "df.info()"
   ]
  },
  {
   "cell_type": "markdown",
   "id": "4fcf6fb8",
   "metadata": {},
   "source": [
    "### Overlooking of numerical columns"
   ]
  },
  {
   "cell_type": "markdown",
   "id": "ee6361f4",
   "metadata": {},
   "source": [
    "After we explored the data on **Tableau**, we noticed that some numerical columns can actually be considered as categorical. \n",
    "Therefore, we turned that columns into categorical, because they come in values of whole numbers.\n",
    "- specifically on the column named as 'no_of_credit_cards_held', we have {1,2,3,4}\n",
    "- on the column named as 'no_of_homes_owned', we have {1,2,3}\n",
    "- on the column named as 'household_size', we have {3,4,5,6,7,8,9}\n",
    "- on the column named as 'no_of_bank_accounts_open',we have {1,2,3}"
   ]
  },
  {
   "cell_type": "code",
   "execution_count": 15,
   "id": "ea7aa88d",
   "metadata": {},
   "outputs": [
    {
     "name": "stdout",
     "output_type": "stream",
     "text": [
      "2    7933\n",
      "1    6147\n",
      "3    3381\n",
      "4     515\n",
      "Name: no_of_credit_cards_held, dtype: int64\n",
      "1    14502\n",
      "2     3289\n",
      "3      185\n",
      "Name: no_of_homes_owned, dtype: int64\n",
      "3    5705\n",
      "4    5532\n",
      "5    2851\n",
      "2    2809\n",
      "1     539\n",
      "6     538\n",
      "8       1\n",
      "9       1\n",
      "Name: household_size, dtype: int64\n",
      "1    13674\n",
      "2     4007\n",
      "3      295\n",
      "Name: no_of_bank_accounts_open, dtype: int64\n"
     ]
    }
   ],
   "source": [
    "print(df['no_of_credit_cards_held'].value_counts())\n",
    "print(df['no_of_homes_owned'].value_counts())\n",
    "print(df['household_size'].value_counts())\n",
    "print(df['no_of_bank_accounts_open'].value_counts())"
   ]
  },
  {
   "cell_type": "code",
   "execution_count": 16,
   "id": "05c97786",
   "metadata": {},
   "outputs": [
    {
     "name": "stdout",
     "output_type": "stream",
     "text": [
      "<class 'pandas.core.frame.DataFrame'>\n",
      "RangeIndex: 17976 entries, 0 to 17975\n",
      "Data columns (total 16 columns):\n",
      " #   Column                    Non-Null Count  Dtype  \n",
      "---  ------                    --------------  -----  \n",
      " 0   offer_accepted            17976 non-null  object \n",
      " 1   reward                    17976 non-null  object \n",
      " 2   mailer_type               17976 non-null  object \n",
      " 3   income_level              17976 non-null  object \n",
      " 4   no_of_bank_accounts_open  17976 non-null  object \n",
      " 5   overdraft_protection      17976 non-null  object \n",
      " 6   credit_rating             17976 non-null  object \n",
      " 7   no_of_credit_cards_held   17976 non-null  object \n",
      " 8   no_of_homes_owned         17976 non-null  object \n",
      " 9   household_size            17976 non-null  object \n",
      " 10  own_your_home             17976 non-null  object \n",
      " 11  average_balance           17976 non-null  float64\n",
      " 12  q1_balance                17976 non-null  float64\n",
      " 13  q2_balance                17976 non-null  float64\n",
      " 14  q3_balance                17976 non-null  float64\n",
      " 15  q4_balance                17976 non-null  float64\n",
      "dtypes: float64(5), object(11)\n",
      "memory usage: 2.2+ MB\n"
     ]
    }
   ],
   "source": [
    "df['no_of_credit_cards_held'] = df['no_of_credit_cards_held'].astype('object') \n",
    "df['no_of_homes_owned'] = df['no_of_homes_owned'].astype('object')\n",
    "df['household_size'] = df['household_size'].astype('object')\n",
    "df['no_of_bank_accounts_open'] = df['no_of_bank_accounts_open'].astype('object')\n",
    "\n",
    "df.info()"
   ]
  },
  {
   "cell_type": "markdown",
   "id": "93e5893e",
   "metadata": {},
   "source": [
    "### Correlations"
   ]
  },
  {
   "cell_type": "code",
   "execution_count": 17,
   "id": "6e85e276",
   "metadata": {},
   "outputs": [
    {
     "data": {
      "text/plain": [
       "<AxesSubplot:>"
      ]
     },
     "execution_count": 17,
     "metadata": {},
     "output_type": "execute_result"
    },
    {
     "data": {
      "image/png": "[encoded data removed]",
      "text/plain": [
       "<Figure size 864x864 with 2 Axes>"
      ]
     },
     "metadata": {
      "needs_background": "light"
     },
     "output_type": "display_data"
    }
   ],
   "source": [
    "plt.figure(figsize = (12,12))\n",
    "\n",
    "mask = np.zeros_like(df.drop('offer_accepted', axis=1).corr())\n",
    "mask[np.triu_indices_from(mask)]=True\n",
    "\n",
    "sns.heatmap(df.drop('offer_accepted', axis=1).corr(), annot = True, center = 0,\n",
    "            mask = mask, cmap = 'seismic')"
   ]
  },
  {
   "cell_type": "markdown",
   "id": "a366d588",
   "metadata": {},
   "source": [
    "This correlation matrix suggests that we should drop 'average_balance' column because it is strongly correlated with columns 'q1_balance', 'q2_balance', 'q3_balance' and 'q4_balance'. To be sure, let's look at VIF. "
   ]
  },
  {
   "cell_type": "code",
   "execution_count": 18,
   "id": "a79d4a49",
   "metadata": {},
   "outputs": [
    {
     "name": "stdout",
     "output_type": "stream",
     "text": [
      "           feature       VIF\n",
      "0   offer_accepted  1.052085\n",
      "1  average_balance       inf\n",
      "2       q1_balance       inf\n",
      "3       q2_balance       inf\n",
      "4       q3_balance       inf\n",
      "5       q4_balance       inf\n"
     ]
    },
    {
     "name": "stderr",
     "output_type": "stream",
     "text": [
      "/Users/ummuhandemir/opt/anaconda3/envs/DA_env/lib/python3.9/site-packages/statsmodels/stats/outliers_influence.py:195: RuntimeWarning: divide by zero encountered in double_scalars\n",
      "  vif = 1. / (1. - r_squared_i)\n"
     ]
    }
   ],
   "source": [
    "from statsmodels.stats.outliers_influence import variance_inflation_factor\n",
    "  \n",
    "# creating dummies for offer_accepted\n",
    "df1 = df.copy()\n",
    "\n",
    "#df1 = pd.DataFrame(df, columns = df.columns)\n",
    "df1['offer_accepted'] = df1['offer_accepted'].map({'No':0, 'Yes':1})\n",
    "  \n",
    "# the independent variables set\n",
    "X1 = df1[['offer_accepted','average_balance','q1_balance','q2_balance','q3_balance','q4_balance']]\n",
    "  \n",
    "# VIF dataframe\n",
    "vif_data = pd.DataFrame()\n",
    "vif_data[\"feature\"] = X1.columns\n",
    "  \n",
    "# calculating VIF for each feature\n",
    "vif_data[\"VIF\"] = [variance_inflation_factor(X1.values, i)\n",
    "                          for i in range(len(X1.columns))]\n",
    "  \n",
    "print(vif_data)"
   ]
  },
  {
   "cell_type": "markdown",
   "id": "9ed3d05f",
   "metadata": {},
   "source": [
    "We didn't expect to see 'inf' VIFs. We try to remove q4_balance first to see whether we get different values."
   ]
  },
  {
   "cell_type": "code",
   "execution_count": 19,
   "id": "49e932c1",
   "metadata": {},
   "outputs": [
    {
     "name": "stdout",
     "output_type": "stream",
     "text": [
      "           feature        VIF\n",
      "0   offer_accepted   1.052085\n",
      "1  average_balance  73.032064\n",
      "2       q1_balance   8.913797\n",
      "3       q2_balance  17.573048\n",
      "4       q3_balance  23.981740\n"
     ]
    }
   ],
   "source": [
    "# the independent variables set\n",
    "X2 = df1[['offer_accepted','average_balance','q1_balance','q2_balance','q3_balance']]\n",
    "  \n",
    "# VIF dataframe\n",
    "vif_data = pd.DataFrame()\n",
    "vif_data[\"feature\"] = X2.columns\n",
    "  \n",
    "# calculating VIF for each feature\n",
    "vif_data[\"VIF\"] = [variance_inflation_factor(X2.values, i)\n",
    "                          for i in range(len(X2.columns))]\n",
    "  \n",
    "print(vif_data)"
   ]
  },
  {
   "cell_type": "markdown",
   "id": "1a8cd6a6",
   "metadata": {},
   "source": [
    "We will remove average_balance next. "
   ]
  },
  {
   "cell_type": "code",
   "execution_count": 20,
   "id": "a67b2d06",
   "metadata": {},
   "outputs": [
    {
     "name": "stdout",
     "output_type": "stream",
     "text": [
      "          feature        VIF\n",
      "0  offer_accepted   1.051684\n",
      "1      q1_balance   4.315700\n",
      "2      q2_balance  10.964415\n",
      "3      q3_balance   5.648603\n"
     ]
    }
   ],
   "source": [
    "# the independent variables set\n",
    "X3 = df1[['offer_accepted','q1_balance','q2_balance','q3_balance']]\n",
    "  \n",
    "# VIF dataframe\n",
    "vif_data = pd.DataFrame()\n",
    "vif_data[\"feature\"] = X3.columns\n",
    "  \n",
    "# calculating VIF for each feature\n",
    "vif_data[\"VIF\"] = [variance_inflation_factor(X3.values, i)\n",
    "                          for i in range(len(X3.columns))]\n",
    "  \n",
    "print(vif_data)"
   ]
  },
  {
   "cell_type": "markdown",
   "id": "8593360b",
   "metadata": {},
   "source": [
    "This seems better but q2_balance also should be dropped."
   ]
  },
  {
   "cell_type": "code",
   "execution_count": 21,
   "id": "d38428e2",
   "metadata": {},
   "outputs": [
    {
     "name": "stdout",
     "output_type": "stream",
     "text": [
      "          feature       VIF\n",
      "0  offer_accepted  1.050879\n",
      "1      q1_balance  2.044489\n",
      "2      q3_balance  2.067206\n"
     ]
    }
   ],
   "source": [
    "# the independent variables set\n",
    "X4 = df1[['offer_accepted','q1_balance','q3_balance']]\n",
    "  \n",
    "# VIF dataframe\n",
    "vif_data = pd.DataFrame()\n",
    "vif_data[\"feature\"] = X4.columns\n",
    "  \n",
    "# calculating VIF for each feature\n",
    "vif_data[\"VIF\"] = [variance_inflation_factor(X4.values, i)\n",
    "                          for i in range(len(X4.columns))]\n",
    "  \n",
    "print(vif_data)"
   ]
  },
  {
   "cell_type": "markdown",
   "id": "51097646",
   "metadata": {},
   "source": [
    "I think we are good to go now."
   ]
  },
  {
   "cell_type": "code",
   "execution_count": 22,
   "id": "aa0110d2",
   "metadata": {},
   "outputs": [],
   "source": [
    "df = df.drop(['no_of_bank_accounts_open','q2_balance', 'q3_balance','q4_balance','no_of_homes_owned','no_of_credit_cards_held','household_size'], axis = 1)"
   ]
  },
  {
   "cell_type": "code",
   "execution_count": 23,
   "id": "3db8a5fe",
   "metadata": {},
   "outputs": [
    {
     "name": "stdout",
     "output_type": "stream",
     "text": [
      "<class 'pandas.core.frame.DataFrame'>\n",
      "RangeIndex: 17976 entries, 0 to 17975\n",
      "Data columns (total 9 columns):\n",
      " #   Column                Non-Null Count  Dtype  \n",
      "---  ------                --------------  -----  \n",
      " 0   offer_accepted        17976 non-null  object \n",
      " 1   reward                17976 non-null  object \n",
      " 2   mailer_type           17976 non-null  object \n",
      " 3   income_level          17976 non-null  object \n",
      " 4   overdraft_protection  17976 non-null  object \n",
      " 5   credit_rating         17976 non-null  object \n",
      " 6   own_your_home         17976 non-null  object \n",
      " 7   average_balance       17976 non-null  float64\n",
      " 8   q1_balance            17976 non-null  float64\n",
      "dtypes: float64(2), object(7)\n",
      "memory usage: 1.2+ MB\n"
     ]
    }
   ],
   "source": [
    "df.info()"
   ]
  },
  {
   "cell_type": "markdown",
   "id": "3c19310f",
   "metadata": {},
   "source": [
    "### Dealing with Outliers"
   ]
  },
  {
   "cell_type": "raw",
   "id": "77aaab56",
   "metadata": {},
   "source": [
    " check outliers\n",
    "plt.figure(figsize = (12,12))\n",
    "sns.boxplot(data = df)"
   ]
  },
  {
   "cell_type": "markdown",
   "id": "a129f675",
   "metadata": {},
   "source": [
    " Because there are a lot of outliers on 'average balance', we will drop them."
   ]
  },
  {
   "cell_type": "raw",
   "id": "612e350d",
   "metadata": {},
   "source": [
    "# This code finds first and third quartiles, then removes the rows whose 'average_balance' is outside of the \n",
    "# 'allowed' range will be removed from our data.\n",
    "\n",
    "q_1 = np.percentile(df['average_balance'],25)\n",
    "q_3 = np.percentile(df['average_balance'],75)\n",
    "iqr = q_3 - q_1\n",
    "    \n",
    "lower_limit = q_1-(1.5)*iqr\n",
    "upper_limit = q_3+(1.5)*iqr\n",
    "\n",
    "#number_of_lower_outliers = len(df[df['average_balance']<lower_limit])\n",
    "#number_of_upper_outliers = len(df[df['average_balance']> upper_limit])\n",
    "\n",
    "df = df[(df['average_balance'] >= lower_limit) & (df['average_balance']<= upper_limit)]"
   ]
  },
  {
   "cell_type": "raw",
   "id": "9a3163cb",
   "metadata": {},
   "source": [
    "plt.figure(figsize = (12,12))\n",
    "sns.boxplot(data = df)"
   ]
  },
  {
   "cell_type": "raw",
   "id": "832e1681",
   "metadata": {},
   "source": [
    "df.info()"
   ]
  },
  {
   "cell_type": "raw",
   "id": "6780afd0",
   "metadata": {},
   "source": [
    "df.reset_index(drop=True, inplace=True)\n",
    "df.info()"
   ]
  },
  {
   "cell_type": "markdown",
   "id": "1dc7011a",
   "metadata": {},
   "source": [
    "### Numerical and Categorical Columns"
   ]
  },
  {
   "cell_type": "markdown",
   "id": "86a311bc",
   "metadata": {},
   "source": [
    "#### Preprocessing numerical columns"
   ]
  },
  {
   "cell_type": "code",
   "execution_count": 24,
   "id": "42bf06da",
   "metadata": {},
   "outputs": [],
   "source": [
    "# to apply different kind of normalization methods, corresponding libraries are imported.\n",
    "from sklearn.preprocessing import Normalizer\n",
    "from sklearn.preprocessing import StandardScaler\n",
    "from sklearn.preprocessing import MinMaxScaler\n",
    "from pandas.plotting import scatter_matrix"
   ]
  },
  {
   "cell_type": "code",
   "execution_count": 25,
   "id": "514fb102",
   "metadata": {},
   "outputs": [],
   "source": [
    "# numerical columns are chosen (in fact we have just one numerical column, but we are writing a generic code to be\n",
    "# able to perform this step later for a different combination of columns)\n",
    "\n",
    "X_numerical = df.select_dtypes(include = np.number)"
   ]
  },
  {
   "cell_type": "code",
   "execution_count": 26,
   "id": "da01c6e1",
   "metadata": {},
   "outputs": [
    {
     "data": {
      "text/html": [
       "<div>\n",
       "<style scoped>\n",
       "    .dataframe tbody tr th:only-of-type {\n",
       "        vertical-align: middle;\n",
       "    }\n",
       "\n",
       "    .dataframe tbody tr th {\n",
       "        vertical-align: top;\n",
       "    }\n",
       "\n",
       "    .dataframe thead th {\n",
       "        text-align: right;\n",
       "    }\n",
       "</style>\n",
       "<table border=\"1\" class=\"dataframe\">\n",
       "  <thead>\n",
       "    <tr style=\"text-align: right;\">\n",
       "      <th></th>\n",
       "      <th>average_balance</th>\n",
       "      <th>q1_balance</th>\n",
       "    </tr>\n",
       "  </thead>\n",
       "  <tbody>\n",
       "    <tr>\n",
       "      <th>0</th>\n",
       "      <td>1160.75</td>\n",
       "      <td>1669.0</td>\n",
       "    </tr>\n",
       "    <tr>\n",
       "      <th>1</th>\n",
       "      <td>147.25</td>\n",
       "      <td>39.0</td>\n",
       "    </tr>\n",
       "    <tr>\n",
       "      <th>2</th>\n",
       "      <td>276.50</td>\n",
       "      <td>367.0</td>\n",
       "    </tr>\n",
       "    <tr>\n",
       "      <th>3</th>\n",
       "      <td>1219.00</td>\n",
       "      <td>1578.0</td>\n",
       "    </tr>\n",
       "    <tr>\n",
       "      <th>4</th>\n",
       "      <td>1211.00</td>\n",
       "      <td>2140.0</td>\n",
       "    </tr>\n",
       "  </tbody>\n",
       "</table>\n",
       "</div>"
      ],
      "text/plain": [
       "   average_balance  q1_balance\n",
       "0          1160.75      1669.0\n",
       "1           147.25        39.0\n",
       "2           276.50       367.0\n",
       "3          1219.00      1578.0\n",
       "4          1211.00      2140.0"
      ]
     },
     "execution_count": 26,
     "metadata": {},
     "output_type": "execute_result"
    }
   ],
   "source": [
    "X_numerical.head()"
   ]
  },
  {
   "cell_type": "code",
   "execution_count": 27,
   "id": "b2e9ecfc",
   "metadata": {},
   "outputs": [
    {
     "data": {
      "image/png": "[encoded data removed]",
      "text/plain": [
       "<Figure size 432x432 with 4 Axes>"
      ]
     },
     "metadata": {
      "needs_background": "light"
     },
     "output_type": "display_data"
    }
   ],
   "source": [
    "# before preprocessing, it is good to see our data.\n",
    "\n",
    "output = scatter_matrix(X_numerical,alpha=0.2,figsize=(6,6),diagonal='kde');"
   ]
  },
  {
   "cell_type": "code",
   "execution_count": 28,
   "id": "26c409b8",
   "metadata": {},
   "outputs": [
    {
     "data": {
      "image/png": "[encoded data removed]",
      "text/plain": [
       "<Figure size 432x432 with 4 Axes>"
      ]
     },
     "metadata": {
      "needs_background": "light"
     },
     "output_type": "display_data"
    }
   ],
   "source": [
    "# First, StandardScaler is applied. \n",
    "\n",
    "transformer = StandardScaler().fit(X_numerical)\n",
    "X_standardised = transformer.transform(X_numerical)\n",
    "X_std = pd.DataFrame(X_standardised, columns= X_numerical.columns)\n",
    "scatter_matrix(X_std,alpha=0.2,figsize=(6,6),diagonal='kde');"
   ]
  },
  {
   "cell_type": "code",
   "execution_count": 29,
   "id": "a5541201",
   "metadata": {},
   "outputs": [
    {
     "data": {
      "image/png": "[encoded data removed]",
      "text/plain": [
       "<Figure size 432x432 with 4 Axes>"
      ]
     },
     "metadata": {
      "needs_background": "light"
     },
     "output_type": "display_data"
    }
   ],
   "source": [
    "\n",
    "transformer = Normalizer().fit(X_numerical)\n",
    "X_normalized = transformer.transform(X_numerical)\n",
    "X_norm = pd.DataFrame(X_normalized, columns= X_numerical.columns)\n",
    "scatter_matrix(X_std,alpha=0.2,figsize=(6,6),diagonal='kde');"
   ]
  },
  {
   "cell_type": "code",
   "execution_count": 30,
   "id": "5c75fe5c",
   "metadata": {},
   "outputs": [
    {
     "data": {
      "image/png": "[encoded data removed]",
      "text/plain": [
       "<Figure size 432x432 with 4 Axes>"
      ]
     },
     "metadata": {
      "needs_background": "light"
     },
     "output_type": "display_data"
    }
   ],
   "source": [
    "# Next, to see the difference, MinMaxScaler is applied.\n",
    "\n",
    "transformer = MinMaxScaler().fit(X_numerical)\n",
    "X_minmax= transformer.transform(X_numerical)\n",
    "X_minmx = pd.DataFrame(X_minmax, columns= X_numerical.columns)\n",
    "scatter_matrix(X_minmx,alpha=0.2,figsize=(6,6),diagonal='kde');"
   ]
  },
  {
   "cell_type": "markdown",
   "id": "06b07591",
   "metadata": {},
   "source": [
    "We decided to continue with StandardScaler because both of them seem more or less the same except their ranges. We prefer the one with symmetric range."
   ]
  },
  {
   "cell_type": "markdown",
   "id": "957cf491",
   "metadata": {},
   "source": [
    "#### Preprocessing categorical columns"
   ]
  },
  {
   "cell_type": "code",
   "execution_count": 31,
   "id": "c471c7c6",
   "metadata": {},
   "outputs": [
    {
     "name": "stderr",
     "output_type": "stream",
     "text": [
      "/var/folders/3m/b1x35fxn7hgf_dq414qzm96w0000gn/T/ipykernel_77403/630929801.py:1: DeprecationWarning: `np.object` is a deprecated alias for the builtin `object`. To silence this warning, use `object` by itself. Doing this will not modify any behavior and is safe. \n",
      "Deprecated in NumPy 1.20; for more details and guidance: https://numpy.org/devdocs/release/1.20.0-notes.html#deprecations\n",
      "  cat = df.select_dtypes(include = np.object)\n"
     ]
    }
   ],
   "source": [
    "cat = df.select_dtypes(include = np.object)"
   ]
  },
  {
   "cell_type": "code",
   "execution_count": 32,
   "id": "98f27274",
   "metadata": {},
   "outputs": [
    {
     "data": {
      "text/html": [
       "<div>\n",
       "<style scoped>\n",
       "    .dataframe tbody tr th:only-of-type {\n",
       "        vertical-align: middle;\n",
       "    }\n",
       "\n",
       "    .dataframe tbody tr th {\n",
       "        vertical-align: top;\n",
       "    }\n",
       "\n",
       "    .dataframe thead th {\n",
       "        text-align: right;\n",
       "    }\n",
       "</style>\n",
       "<table border=\"1\" class=\"dataframe\">\n",
       "  <thead>\n",
       "    <tr style=\"text-align: right;\">\n",
       "      <th></th>\n",
       "      <th>offer_accepted</th>\n",
       "      <th>reward</th>\n",
       "      <th>mailer_type</th>\n",
       "      <th>income_level</th>\n",
       "      <th>overdraft_protection</th>\n",
       "      <th>credit_rating</th>\n",
       "      <th>own_your_home</th>\n",
       "    </tr>\n",
       "  </thead>\n",
       "  <tbody>\n",
       "    <tr>\n",
       "      <th>0</th>\n",
       "      <td>No</td>\n",
       "      <td>Air Miles</td>\n",
       "      <td>Letter</td>\n",
       "      <td>High</td>\n",
       "      <td>No</td>\n",
       "      <td>High</td>\n",
       "      <td>No</td>\n",
       "    </tr>\n",
       "    <tr>\n",
       "      <th>1</th>\n",
       "      <td>No</td>\n",
       "      <td>Air Miles</td>\n",
       "      <td>Letter</td>\n",
       "      <td>Medium</td>\n",
       "      <td>No</td>\n",
       "      <td>Medium</td>\n",
       "      <td>Yes</td>\n",
       "    </tr>\n",
       "    <tr>\n",
       "      <th>2</th>\n",
       "      <td>No</td>\n",
       "      <td>Air Miles</td>\n",
       "      <td>Postcard</td>\n",
       "      <td>High</td>\n",
       "      <td>No</td>\n",
       "      <td>Medium</td>\n",
       "      <td>Yes</td>\n",
       "    </tr>\n",
       "    <tr>\n",
       "      <th>3</th>\n",
       "      <td>No</td>\n",
       "      <td>Air Miles</td>\n",
       "      <td>Letter</td>\n",
       "      <td>Medium</td>\n",
       "      <td>No</td>\n",
       "      <td>High</td>\n",
       "      <td>No</td>\n",
       "    </tr>\n",
       "    <tr>\n",
       "      <th>4</th>\n",
       "      <td>No</td>\n",
       "      <td>Air Miles</td>\n",
       "      <td>Letter</td>\n",
       "      <td>Medium</td>\n",
       "      <td>No</td>\n",
       "      <td>Medium</td>\n",
       "      <td>Yes</td>\n",
       "    </tr>\n",
       "  </tbody>\n",
       "</table>\n",
       "</div>"
      ],
      "text/plain": [
       "  offer_accepted     reward mailer_type income_level overdraft_protection  \\\n",
       "0             No  Air Miles      Letter         High                   No   \n",
       "1             No  Air Miles      Letter       Medium                   No   \n",
       "2             No  Air Miles    Postcard         High                   No   \n",
       "3             No  Air Miles      Letter       Medium                   No   \n",
       "4             No  Air Miles      Letter       Medium                   No   \n",
       "\n",
       "  credit_rating own_your_home  \n",
       "0          High            No  \n",
       "1        Medium           Yes  \n",
       "2        Medium           Yes  \n",
       "3          High            No  \n",
       "4        Medium           Yes  "
      ]
     },
     "execution_count": 32,
     "metadata": {},
     "output_type": "execute_result"
    }
   ],
   "source": [
    "cat.head()"
   ]
  },
  {
   "cell_type": "code",
   "execution_count": 33,
   "id": "797420d7",
   "metadata": {},
   "outputs": [],
   "source": [
    "# We have to keep our target variable as itself.\n",
    "\n",
    "cat = cat.drop(['offer_accepted'],axis = 1)"
   ]
  },
  {
   "cell_type": "code",
   "execution_count": 34,
   "id": "de238383",
   "metadata": {},
   "outputs": [],
   "source": [
    "# convert categorical columns into numeric.\n",
    "\n",
    "categorical = pd.get_dummies(cat, drop_first=True, columns= cat.columns)"
   ]
  },
  {
   "cell_type": "code",
   "execution_count": 35,
   "id": "fc1db215",
   "metadata": {},
   "outputs": [
    {
     "data": {
      "text/html": [
       "<div>\n",
       "<style scoped>\n",
       "    .dataframe tbody tr th:only-of-type {\n",
       "        vertical-align: middle;\n",
       "    }\n",
       "\n",
       "    .dataframe tbody tr th {\n",
       "        vertical-align: top;\n",
       "    }\n",
       "\n",
       "    .dataframe thead th {\n",
       "        text-align: right;\n",
       "    }\n",
       "</style>\n",
       "<table border=\"1\" class=\"dataframe\">\n",
       "  <thead>\n",
       "    <tr style=\"text-align: right;\">\n",
       "      <th></th>\n",
       "      <th>reward_Cash Back</th>\n",
       "      <th>reward_Points</th>\n",
       "      <th>mailer_type_Postcard</th>\n",
       "      <th>income_level_Low</th>\n",
       "      <th>income_level_Medium</th>\n",
       "      <th>overdraft_protection_Yes</th>\n",
       "      <th>credit_rating_Low</th>\n",
       "      <th>credit_rating_Medium</th>\n",
       "      <th>own_your_home_Yes</th>\n",
       "    </tr>\n",
       "  </thead>\n",
       "  <tbody>\n",
       "    <tr>\n",
       "      <th>0</th>\n",
       "      <td>0</td>\n",
       "      <td>0</td>\n",
       "      <td>0</td>\n",
       "      <td>0</td>\n",
       "      <td>0</td>\n",
       "      <td>0</td>\n",
       "      <td>0</td>\n",
       "      <td>0</td>\n",
       "      <td>0</td>\n",
       "    </tr>\n",
       "    <tr>\n",
       "      <th>1</th>\n",
       "      <td>0</td>\n",
       "      <td>0</td>\n",
       "      <td>0</td>\n",
       "      <td>0</td>\n",
       "      <td>1</td>\n",
       "      <td>0</td>\n",
       "      <td>0</td>\n",
       "      <td>1</td>\n",
       "      <td>1</td>\n",
       "    </tr>\n",
       "    <tr>\n",
       "      <th>2</th>\n",
       "      <td>0</td>\n",
       "      <td>0</td>\n",
       "      <td>1</td>\n",
       "      <td>0</td>\n",
       "      <td>0</td>\n",
       "      <td>0</td>\n",
       "      <td>0</td>\n",
       "      <td>1</td>\n",
       "      <td>1</td>\n",
       "    </tr>\n",
       "    <tr>\n",
       "      <th>3</th>\n",
       "      <td>0</td>\n",
       "      <td>0</td>\n",
       "      <td>0</td>\n",
       "      <td>0</td>\n",
       "      <td>1</td>\n",
       "      <td>0</td>\n",
       "      <td>0</td>\n",
       "      <td>0</td>\n",
       "      <td>0</td>\n",
       "    </tr>\n",
       "    <tr>\n",
       "      <th>4</th>\n",
       "      <td>0</td>\n",
       "      <td>0</td>\n",
       "      <td>0</td>\n",
       "      <td>0</td>\n",
       "      <td>1</td>\n",
       "      <td>0</td>\n",
       "      <td>0</td>\n",
       "      <td>1</td>\n",
       "      <td>1</td>\n",
       "    </tr>\n",
       "  </tbody>\n",
       "</table>\n",
       "</div>"
      ],
      "text/plain": [
       "   reward_Cash Back  reward_Points  mailer_type_Postcard  income_level_Low  \\\n",
       "0                 0              0                     0                 0   \n",
       "1                 0              0                     0                 0   \n",
       "2                 0              0                     1                 0   \n",
       "3                 0              0                     0                 0   \n",
       "4                 0              0                     0                 0   \n",
       "\n",
       "   income_level_Medium  overdraft_protection_Yes  credit_rating_Low  \\\n",
       "0                    0                         0                  0   \n",
       "1                    1                         0                  0   \n",
       "2                    0                         0                  0   \n",
       "3                    1                         0                  0   \n",
       "4                    1                         0                  0   \n",
       "\n",
       "   credit_rating_Medium  own_your_home_Yes  \n",
       "0                     0                  0  \n",
       "1                     1                  1  \n",
       "2                     1                  1  \n",
       "3                     0                  0  \n",
       "4                     1                  1  "
      ]
     },
     "execution_count": 35,
     "metadata": {},
     "output_type": "execute_result"
    }
   ],
   "source": [
    "categorical.head()"
   ]
  },
  {
   "cell_type": "markdown",
   "id": "0bdb31d3",
   "metadata": {},
   "source": [
    "## DataFrame after preprocessing"
   ]
  },
  {
   "cell_type": "markdown",
   "id": "11d2cce0",
   "metadata": {},
   "source": [
    "Now we will bring the scaled numerical and now-numeric categorical columns back together to start modelling."
   ]
  },
  {
   "cell_type": "code",
   "execution_count": 36,
   "id": "91e87fea",
   "metadata": {},
   "outputs": [],
   "source": [
    "X_full = pd.concat([X_norm,categorical],axis=1)\n",
    "\n",
    "\n",
    "# setting target column\n",
    "y = df['offer_accepted']"
   ]
  },
  {
   "cell_type": "code",
   "execution_count": 37,
   "id": "4676dea8",
   "metadata": {},
   "outputs": [
    {
     "name": "stdout",
     "output_type": "stream",
     "text": [
      "<class 'pandas.core.frame.DataFrame'>\n",
      "RangeIndex: 17976 entries, 0 to 17975\n",
      "Data columns (total 11 columns):\n",
      " #   Column                    Non-Null Count  Dtype  \n",
      "---  ------                    --------------  -----  \n",
      " 0   average_balance           17976 non-null  float64\n",
      " 1   q1_balance                17976 non-null  float64\n",
      " 2   reward_Cash Back          17976 non-null  uint8  \n",
      " 3   reward_Points             17976 non-null  uint8  \n",
      " 4   mailer_type_Postcard      17976 non-null  uint8  \n",
      " 5   income_level_Low          17976 non-null  uint8  \n",
      " 6   income_level_Medium       17976 non-null  uint8  \n",
      " 7   overdraft_protection_Yes  17976 non-null  uint8  \n",
      " 8   credit_rating_Low         17976 non-null  uint8  \n",
      " 9   credit_rating_Medium      17976 non-null  uint8  \n",
      " 10  own_your_home_Yes         17976 non-null  uint8  \n",
      "dtypes: float64(2), uint8(9)\n",
      "memory usage: 439.0 KB\n"
     ]
    }
   ],
   "source": [
    "X_full.info()"
   ]
  },
  {
   "cell_type": "code",
   "execution_count": 38,
   "id": "f5481c0b",
   "metadata": {},
   "outputs": [
    {
     "data": {
      "text/plain": [
       "No     16955\n",
       "Yes     1021\n",
       "Name: offer_accepted, dtype: int64"
      ]
     },
     "execution_count": 38,
     "metadata": {},
     "output_type": "execute_result"
    }
   ],
   "source": [
    "y.value_counts()"
   ]
  },
  {
   "cell_type": "markdown",
   "id": "795982b8",
   "metadata": {},
   "source": [
    "## Modelling with Logistic Regression"
   ]
  },
  {
   "cell_type": "code",
   "execution_count": 39,
   "id": "82827ad8",
   "metadata": {},
   "outputs": [],
   "source": [
    "from sklearn.linear_model import LogisticRegression #model\n",
    "from sklearn.metrics import confusion_matrix, plot_confusion_matrix   #evaluation\n",
    "from sklearn.metrics import classification_report   #evaluation\n",
    "from sklearn.metrics import accuracy_score       #evaluation\n",
    "from sklearn.tree import DecisionTreeClassifier #evaluation\n",
    "from sklearn.model_selection import cross_validate\n",
    "from sklearn.metrics import f1_score "
   ]
  },
  {
   "cell_type": "markdown",
   "id": "f2b812a0",
   "metadata": {},
   "source": [
    "### Split data into train - test"
   ]
  },
  {
   "cell_type": "code",
   "execution_count": 40,
   "id": "f5c0fbdd",
   "metadata": {},
   "outputs": [],
   "source": [
    "from sklearn.model_selection import train_test_split  #train test"
   ]
  },
  {
   "cell_type": "code",
   "execution_count": 41,
   "id": "53da2f59",
   "metadata": {},
   "outputs": [],
   "source": [
    "X_train, X_test, y_train, y_test=train_test_split(X_full,y, test_size=0.3, random_state=40)"
   ]
  },
  {
   "cell_type": "markdown",
   "id": "706d368b",
   "metadata": {},
   "source": [
    "### Fit train to the model"
   ]
  },
  {
   "cell_type": "code",
   "execution_count": 42,
   "id": "6189fd3f",
   "metadata": {},
   "outputs": [],
   "source": [
    "lr = LogisticRegression(max_iter=600)"
   ]
  },
  {
   "cell_type": "code",
   "execution_count": 43,
   "id": "87be1e6b",
   "metadata": {},
   "outputs": [
    {
     "data": {
      "text/plain": [
       "LogisticRegression(max_iter=600)"
      ]
     },
     "execution_count": 43,
     "metadata": {},
     "output_type": "execute_result"
    }
   ],
   "source": [
    "lr.fit(X_train, y_train)"
   ]
  },
  {
   "cell_type": "code",
   "execution_count": 44,
   "id": "04cf82e7",
   "metadata": {},
   "outputs": [],
   "source": [
    "y_pred = lr.predict(X_test)"
   ]
  },
  {
   "cell_type": "code",
   "execution_count": 45,
   "id": "14ae31f8",
   "metadata": {},
   "outputs": [
    {
     "data": {
      "text/plain": [
       "0.9415909512330799"
      ]
     },
     "execution_count": 45,
     "metadata": {},
     "output_type": "execute_result"
    }
   ],
   "source": [
    "accuracy_score(y_test,y_pred)"
   ]
  },
  {
   "cell_type": "code",
   "execution_count": 46,
   "id": "7f732f3e",
   "metadata": {},
   "outputs": [],
   "source": [
    "cnfmat_lr =confusion_matrix(y_test,y_pred)"
   ]
  },
  {
   "cell_type": "code",
   "execution_count": 47,
   "id": "e37364f0",
   "metadata": {},
   "outputs": [
    {
     "data": {
      "text/plain": [
       "<sklearn.metrics._plot.confusion_matrix.ConfusionMatrixDisplay at 0x7fb0fcf39c40>"
      ]
     },
     "execution_count": 47,
     "metadata": {},
     "output_type": "execute_result"
    },
    {
     "data": {
      "image/png": "[encoded data removed]",
      "text/plain": [
       "<Figure size 432x288 with 2 Axes>"
      ]
     },
     "metadata": {
      "needs_background": "light"
     },
     "output_type": "display_data"
    }
   ],
   "source": [
    "plot_confusion_matrix(lr,X_test,y_test)"
   ]
  },
  {
   "cell_type": "code",
   "execution_count": 48,
   "id": "5eee0d4f",
   "metadata": {},
   "outputs": [
    {
     "data": {
      "text/plain": [
       "<AxesSubplot:xlabel='Predicted label'>"
      ]
     },
     "execution_count": 48,
     "metadata": {},
     "output_type": "execute_result"
    },
    {
     "data": {
      "image/png": "[encoded data removed]",
      "text/plain": [
       "<Figure size 576x360 with 2 Axes>"
      ]
     },
     "metadata": {},
     "output_type": "display_data"
    }
   ],
   "source": [
    "df_f = pd.DataFrame(cnfmat_lr, columns = np.unique(y_test), index = np.unique(y_test))\n",
    "# set the names of the axis for the confusion matrix\n",
    "df_f.index_name = 'True label'\n",
    "df_f.columns.name = 'Predicted label'\n",
    "\n",
    "sns.set(font_scale = 1.5)\n",
    "fig, ax = plt.subplots(figsize = (8,5))\n",
    "\n",
    "sns.heatmap(df_f/df_f.sum().sum(), annot = True, fmt='.2%',\n",
    "           cmap = 'YlOrBr',\n",
    "           annot_kws = {'size' :13})"
   ]
  },
  {
   "cell_type": "code",
   "execution_count": 49,
   "id": "0e5f18d7",
   "metadata": {},
   "outputs": [
    {
     "data": {
      "image/png": "[encoded data removed]",
      "text/plain": [
       "<Figure size 432x288 with 1 Axes>"
      ]
     },
     "metadata": {},
     "output_type": "display_data"
    }
   ],
   "source": [
    "# AUC \n",
    "import sklearn.metrics as metrics\n",
    "y_pred_proba =lr.predict_proba(X_test)[::,1]\n",
    "fpr, tpr, _ = metrics.roc_curve(y_test,  y_pred_proba, pos_label = 'Yes')\n",
    "auc = metrics.roc_auc_score(y_test, y_pred_proba)\n",
    "plt.plot(fpr,tpr,label=\"data 1, auc=\"+str(auc))\n",
    "plt.plot([0,1],[0,1],'r--')          # add the red line to the middle of the plot\n",
    "plt.legend(loc=4)\n",
    "plt.show()"
   ]
  },
  {
   "cell_type": "code",
   "execution_count": 50,
   "id": "eff32570",
   "metadata": {},
   "outputs": [
    {
     "data": {
      "text/plain": [
       "{'fit_time': array([0.04219961, 0.04404712, 0.0378859 , 0.03881598, 0.04279709,\n",
       "        0.04006791]),\n",
       " 'score_time': array([0.01417232, 0.012954  , 0.01714301, 0.0167563 , 0.01066184,\n",
       "        0.0103581 ]),\n",
       " 'test_score': array([0.50034779, 0.51208746, 0.55362291, 0.53980938, 0.52200581,\n",
       "        0.53248431])}"
      ]
     },
     "execution_count": 50,
     "metadata": {},
     "output_type": "execute_result"
    }
   ],
   "source": [
    "model = DecisionTreeClassifier()\n",
    "scores = cross_validate(model,X_train,y_train, cv = 6, n_jobs=-1, scoring = 'f1_macro')\n",
    "scores"
   ]
  },
  {
   "cell_type": "markdown",
   "id": "1d8f11aa",
   "metadata": {},
   "source": [
    "**Summary of the result of this model:**\n",
    "- accuracy score = 0.94\n",
    "- auc score = 0.76\n",
    "- f1 scores are around 0.51. \n",
    "\n",
    "We will try to increase f1 scores."
   ]
  },
  {
   "cell_type": "markdown",
   "id": "5bb20af3",
   "metadata": {},
   "source": [
    "### Over Samling Method - SMOTE"
   ]
  },
  {
   "cell_type": "code",
   "execution_count": 51,
   "id": "196d7ea6",
   "metadata": {},
   "outputs": [],
   "source": [
    "from imblearn.over_sampling import SMOTE\n",
    "smote = SMOTE()"
   ]
  },
  {
   "cell_type": "code",
   "execution_count": 52,
   "id": "0f3144f4",
   "metadata": {},
   "outputs": [],
   "source": [
    "X_train_sm, y_train_sm = smote.fit_resample(X_train,y_train)"
   ]
  },
  {
   "cell_type": "code",
   "execution_count": 53,
   "id": "b72e65da",
   "metadata": {},
   "outputs": [
    {
     "data": {
      "text/plain": [
       "LogisticRegression(max_iter=600)"
      ]
     },
     "execution_count": 53,
     "metadata": {},
     "output_type": "execute_result"
    }
   ],
   "source": [
    "lr.fit(X_train_sm,y_train_sm)"
   ]
  },
  {
   "cell_type": "code",
   "execution_count": 54,
   "id": "f05efe22",
   "metadata": {},
   "outputs": [],
   "source": [
    "y_pred_sm = lr.predict(X_test)"
   ]
  },
  {
   "cell_type": "code",
   "execution_count": 55,
   "id": "07d032cf",
   "metadata": {},
   "outputs": [
    {
     "data": {
      "text/plain": [
       "0.6832931577971445"
      ]
     },
     "execution_count": 55,
     "metadata": {},
     "output_type": "execute_result"
    }
   ],
   "source": [
    "accuracy_score(y_test,y_pred_sm)"
   ]
  },
  {
   "cell_type": "code",
   "execution_count": 56,
   "id": "52dc381e",
   "metadata": {},
   "outputs": [],
   "source": [
    "cnfmat_sm = confusion_matrix(y_test,y_pred_sm)"
   ]
  },
  {
   "cell_type": "code",
   "execution_count": 57,
   "id": "029db535",
   "metadata": {},
   "outputs": [
    {
     "data": {
      "text/plain": [
       "<sklearn.metrics._plot.confusion_matrix.ConfusionMatrixDisplay at 0x7fb0c87b64c0>"
      ]
     },
     "execution_count": 57,
     "metadata": {},
     "output_type": "execute_result"
    },
    {
     "data": {
      "image/png": "[encoded data removed]",
      "text/plain": [
       "<Figure size 432x288 with 2 Axes>"
      ]
     },
     "metadata": {},
     "output_type": "display_data"
    }
   ],
   "source": [
    "plot_confusion_matrix(lr,X_test,y_test)"
   ]
  },
  {
   "cell_type": "code",
   "execution_count": 58,
   "id": "efe8a919",
   "metadata": {},
   "outputs": [
    {
     "data": {
      "text/plain": [
       "<AxesSubplot:xlabel='Predicted label'>"
      ]
     },
     "execution_count": 58,
     "metadata": {},
     "output_type": "execute_result"
    },
    {
     "data": {
      "image/png": "[encoded data removed]",
      "text/plain": [
       "<Figure size 576x360 with 2 Axes>"
      ]
     },
     "metadata": {},
     "output_type": "display_data"
    }
   ],
   "source": [
    "df_sm = pd.DataFrame(cnfmat_sm, columns = np.unique(y_test), index = np.unique(y_test))\n",
    "# set the names of the axis for the confusion matrix\n",
    "df_sm.index_name = 'True label'\n",
    "df_sm.columns.name = 'Predicted label'\n",
    "\n",
    "sns.set(font_scale = 1.5)\n",
    "fig, ax = plt.subplots(figsize = (8,5))\n",
    "\n",
    "sns.heatmap(df_sm/df_sm.sum().sum(), annot = True, fmt='.2%',\n",
    "           cmap = 'YlOrBr',\n",
    "           annot_kws = {'size' :13})"
   ]
  },
  {
   "cell_type": "code",
   "execution_count": 59,
   "id": "6646e716",
   "metadata": {},
   "outputs": [
    {
     "data": {
      "image/png": "[encoded data removed]",
      "text/plain": [
       "<Figure size 432x288 with 1 Axes>"
      ]
     },
     "metadata": {},
     "output_type": "display_data"
    }
   ],
   "source": [
    "# AUC - \n",
    "import sklearn.metrics as metrics\n",
    "y_pred_proba = lr.predict_proba(X_test)[::,1]\n",
    "fpr, tpr, _ = metrics.roc_curve(y_test,y_pred_proba, pos_label = 'Yes')\n",
    "auc = metrics.roc_auc_score(y_test,y_pred_proba)\n",
    "plt.plot(fpr,tpr,label=\"data 1, auc=\"+str(auc))\n",
    "plt.plot([0,1],[0,1],'r--')          # add the red line to the middle of the plot\n",
    "plt.legend(loc=4)\n",
    "plt.show()"
   ]
  },
  {
   "cell_type": "code",
   "execution_count": 60,
   "id": "f3341d75",
   "metadata": {},
   "outputs": [
    {
     "data": {
      "text/plain": [
       "{'fit_time': array([0.07912302, 0.08380699, 0.08271718, 0.0875411 , 0.07658982,\n",
       "        0.08167505]),\n",
       " 'score_time': array([0.02097416, 0.02174997, 0.02237892, 0.02451897, 0.02161407,\n",
       "        0.02180982]),\n",
       " 'test_score': array([0.76104271, 0.78125676, 0.78781047, 0.77115315, 0.79233735,\n",
       "        0.77164166])}"
      ]
     },
     "execution_count": 60,
     "metadata": {},
     "output_type": "execute_result"
    }
   ],
   "source": [
    "scores = cross_validate(model,X_train_sm,y_train_sm, cv = 6, n_jobs=-1, scoring = 'f1_macro')\n",
    "scores"
   ]
  },
  {
   "cell_type": "markdown",
   "id": "7aad6d02",
   "metadata": {},
   "source": [
    "**Summary of the result of this model:**\n",
    "- accuracy score = 0.68\n",
    "- auc score = 0.75\n",
    "- f1 scores are around 0.80.\n",
    "\n",
    "SMOTE improved f1 scores a lot, auc is descreased a little."
   ]
  },
  {
   "cell_type": "code",
   "execution_count": null,
   "id": "219aeb88",
   "metadata": {},
   "outputs": [],
   "source": []
  },
  {
   "cell_type": "markdown",
   "id": "54bd82f8",
   "metadata": {},
   "source": [
    "### Under Sampling - Tomek Link "
   ]
  },
  {
   "cell_type": "code",
   "execution_count": 61,
   "id": "e2185655",
   "metadata": {},
   "outputs": [],
   "source": [
    "from imblearn.under_sampling import TomekLinks\n",
    "tomek = TomekLinks(sampling_strategy = 'majority')"
   ]
  },
  {
   "cell_type": "code",
   "execution_count": 62,
   "id": "2b77a56e",
   "metadata": {},
   "outputs": [],
   "source": [
    "X_train_tm, y_train_tm = tomek.fit_resample(X_train,y_train)"
   ]
  },
  {
   "cell_type": "code",
   "execution_count": 63,
   "id": "33bf3bec",
   "metadata": {},
   "outputs": [
    {
     "data": {
      "text/plain": [
       "LogisticRegression(max_iter=600)"
      ]
     },
     "execution_count": 63,
     "metadata": {},
     "output_type": "execute_result"
    }
   ],
   "source": [
    "lr.fit(X_train_tm,y_train_tm)"
   ]
  },
  {
   "cell_type": "code",
   "execution_count": 64,
   "id": "ad491e1a",
   "metadata": {},
   "outputs": [],
   "source": [
    "y_pred_tm = lr.predict(X_test)"
   ]
  },
  {
   "cell_type": "code",
   "execution_count": 65,
   "id": "afd1d7a2",
   "metadata": {},
   "outputs": [
    {
     "data": {
      "text/plain": [
       "0.9415909512330799"
      ]
     },
     "execution_count": 65,
     "metadata": {},
     "output_type": "execute_result"
    }
   ],
   "source": [
    "accuracy_score(y_test,y_pred_tm)"
   ]
  },
  {
   "cell_type": "code",
   "execution_count": 66,
   "id": "7b8ae97e",
   "metadata": {},
   "outputs": [
    {
     "data": {
      "text/plain": [
       "<sklearn.metrics._plot.confusion_matrix.ConfusionMatrixDisplay at 0x7fb0fc99bca0>"
      ]
     },
     "execution_count": 66,
     "metadata": {},
     "output_type": "execute_result"
    },
    {
     "data": {
      "image/png": "[encoded data removed]",
      "text/plain": [
       "<Figure size 432x288 with 2 Axes>"
      ]
     },
     "metadata": {},
     "output_type": "display_data"
    }
   ],
   "source": [
    "plot_confusion_matrix(lr,X_test,y_test)"
   ]
  },
  {
   "cell_type": "code",
   "execution_count": 67,
   "id": "cf62d988",
   "metadata": {},
   "outputs": [
    {
     "data": {
      "image/png": "[encoded data removed]",
      "text/plain": [
       "<Figure size 432x288 with 1 Axes>"
      ]
     },
     "metadata": {},
     "output_type": "display_data"
    }
   ],
   "source": [
    "import sklearn.metrics as metrics\n",
    "y_pred_proba = lr.predict_proba(X_test)[::,1]\n",
    "fpr, tpr, _ = metrics.roc_curve(y_test,  y_pred_proba, pos_label = 'Yes')\n",
    "auc = metrics.roc_auc_score(y_test, y_pred_proba)\n",
    "plt.plot(fpr,tpr,label=\"data 1, auc=\"+str(auc))\n",
    "plt.plot([0,1],[0,1],'r--')          # add the red line to the middle of the plot\n",
    "plt.legend(loc=4)\n",
    "plt.show()"
   ]
  },
  {
   "cell_type": "code",
   "execution_count": 68,
   "id": "c04a2485",
   "metadata": {},
   "outputs": [
    {
     "data": {
      "text/plain": [
       "{'fit_time': array([0.04076695, 0.03865886, 0.04127002, 0.04345012, 0.04118109,\n",
       "        0.04434204]),\n",
       " 'score_time': array([0.01438022, 0.01022696, 0.01993704, 0.0172739 , 0.01574898,\n",
       "        0.01687002]),\n",
       " 'test_score': array([0.53587495, 0.56265617, 0.58236483, 0.55508596, 0.55574531,\n",
       "        0.53017517])}"
      ]
     },
     "execution_count": 68,
     "metadata": {},
     "output_type": "execute_result"
    }
   ],
   "source": [
    "scores = cross_validate(model,X_train_tm,y_train_tm, cv = 6, n_jobs=-1, scoring = 'f1_macro')\n",
    "scores"
   ]
  },
  {
   "cell_type": "markdown",
   "id": "18ef5206",
   "metadata": {},
   "source": [
    "**Summary of the result of this model:**\n",
    "- accuracy score = 0.94\n",
    "- auc score = 0.75\n",
    "- f1 scores are around 0.53. \n",
    "\n",
    "With Tomek Link, we didn't get any improvements."
   ]
  },
  {
   "cell_type": "markdown",
   "id": "dd257cb3",
   "metadata": {},
   "source": [
    "### Mixed Sampling Methods - SMOTE followed by Tomek Link"
   ]
  },
  {
   "cell_type": "code",
   "execution_count": 69,
   "id": "5c9ce580",
   "metadata": {},
   "outputs": [],
   "source": [
    "X_train_sm_tm, y_train_sm_tm = tomek.fit_resample(X_train_sm,y_train_sm)"
   ]
  },
  {
   "cell_type": "code",
   "execution_count": 70,
   "id": "53aa8b81",
   "metadata": {},
   "outputs": [
    {
     "data": {
      "text/plain": [
       "22430"
      ]
     },
     "execution_count": 70,
     "metadata": {},
     "output_type": "execute_result"
    }
   ],
   "source": [
    "len(y_train_sm_tm)"
   ]
  },
  {
   "cell_type": "code",
   "execution_count": 71,
   "id": "8dfbcb62",
   "metadata": {},
   "outputs": [
    {
     "data": {
      "text/plain": [
       "LogisticRegression(max_iter=600)"
      ]
     },
     "execution_count": 71,
     "metadata": {},
     "output_type": "execute_result"
    }
   ],
   "source": [
    "lr.fit(X_train_sm_tm,y_train_sm_tm)"
   ]
  },
  {
   "cell_type": "code",
   "execution_count": 72,
   "id": "e36dbb6a",
   "metadata": {},
   "outputs": [],
   "source": [
    "y_pred_tm_sm = lr.predict(X_test)"
   ]
  },
  {
   "cell_type": "code",
   "execution_count": 73,
   "id": "a3e55e33",
   "metadata": {},
   "outputs": [
    {
     "data": {
      "text/plain": [
       "0.654181346189505"
      ]
     },
     "execution_count": 73,
     "metadata": {},
     "output_type": "execute_result"
    }
   ],
   "source": [
    "accuracy_score(y_test,y_pred_tm_sm)"
   ]
  },
  {
   "cell_type": "code",
   "execution_count": 74,
   "id": "29d44040",
   "metadata": {},
   "outputs": [
    {
     "data": {
      "text/plain": [
       "<sklearn.metrics._plot.confusion_matrix.ConfusionMatrixDisplay at 0x7fb0d860f5b0>"
      ]
     },
     "execution_count": 74,
     "metadata": {},
     "output_type": "execute_result"
    },
    {
     "data": {
      "image/png": "[encoded data removed]",
      "text/plain": [
       "<Figure size 432x288 with 2 Axes>"
      ]
     },
     "metadata": {},
     "output_type": "display_data"
    }
   ],
   "source": [
    "plot_confusion_matrix(lr,X_test,y_test)"
   ]
  },
  {
   "cell_type": "code",
   "execution_count": 75,
   "id": "744afe97",
   "metadata": {},
   "outputs": [
    {
     "data": {
      "image/png": "[encoded data removed]",
      "text/plain": [
       "<Figure size 432x288 with 1 Axes>"
      ]
     },
     "metadata": {},
     "output_type": "display_data"
    }
   ],
   "source": [
    "import sklearn.metrics as metrics\n",
    "y_pred_proba = lr.predict_proba(X_test)[::,1]\n",
    "fpr, tpr, _ = metrics.roc_curve(y_test,  y_pred_proba, pos_label = 'Yes')\n",
    "auc = metrics.roc_auc_score(y_test, y_pred_proba)\n",
    "plt.plot(fpr,tpr,label=\"data 1, auc=\"+str(auc))\n",
    "plt.plot([0,1],[0,1],'r--')          # add the red line to the middle of the plot\n",
    "plt.legend(loc=4)\n",
    "plt.show()"
   ]
  },
  {
   "cell_type": "code",
   "execution_count": 76,
   "id": "1e1997cf",
   "metadata": {},
   "outputs": [
    {
     "data": {
      "text/plain": [
       "{'fit_time': array([0.07137489, 0.07151103, 0.07716084, 0.08383799, 0.08768082,\n",
       "        0.08538914]),\n",
       " 'score_time': array([0.02682805, 0.03187418, 0.02156329, 0.02421784, 0.02056718,\n",
       "        0.02139807]),\n",
       " 'test_score': array([0.8318536 , 0.84118015, 0.84780169, 0.84918447, 0.85329721,\n",
       "        0.83770187])}"
      ]
     },
     "execution_count": 76,
     "metadata": {},
     "output_type": "execute_result"
    }
   ],
   "source": [
    "scores = cross_validate(model,X_train_sm_tm,y_train_sm_tm, cv = 6, n_jobs=-1, scoring = 'f1_macro')\n",
    "scores"
   ]
  },
  {
   "cell_type": "markdown",
   "id": "2fe3dd9f",
   "metadata": {},
   "source": [
    "**Summary of the results of this model:**\n",
    "- accuracy score = 0.66\n",
    "- auc score = 0.75\n",
    "- f1 scores are around 0.83.\n",
    "\n",
    "SMOTE followed by Tomek Link improved f1 scores a bit if we compare them with the results of just SMOTE applied, auc is still the same."
   ]
  },
  {
   "cell_type": "code",
   "execution_count": null,
   "id": "b073fd47",
   "metadata": {},
   "outputs": [],
   "source": []
  },
  {
   "cell_type": "markdown",
   "id": "0c817f2a",
   "metadata": {},
   "source": [
    "### KNN Classifier"
   ]
  },
  {
   "cell_type": "code",
   "execution_count": 77,
   "id": "6abb2162",
   "metadata": {},
   "outputs": [],
   "source": [
    "from sklearn.neighbors import KNeighborsClassifier"
   ]
  },
  {
   "cell_type": "code",
   "execution_count": 78,
   "id": "ec70ab7c",
   "metadata": {},
   "outputs": [],
   "source": [
    "knn = KNeighborsClassifier(n_neighbors = 5, p=2)"
   ]
  },
  {
   "cell_type": "code",
   "execution_count": 79,
   "id": "6fa87d7f",
   "metadata": {},
   "outputs": [
    {
     "data": {
      "text/plain": [
       "KNeighborsClassifier()"
      ]
     },
     "execution_count": 79,
     "metadata": {},
     "output_type": "execute_result"
    }
   ],
   "source": [
    "knn.fit(X_train,y_train)"
   ]
  },
  {
   "cell_type": "code",
   "execution_count": 80,
   "id": "a809903f",
   "metadata": {},
   "outputs": [],
   "source": [
    "y_pred = knn.predict(X_test)"
   ]
  },
  {
   "cell_type": "code",
   "execution_count": 81,
   "id": "15f6685e",
   "metadata": {},
   "outputs": [
    {
     "data": {
      "text/plain": [
       "array([[5045,   33],\n",
       "       [ 308,    7]])"
      ]
     },
     "execution_count": 81,
     "metadata": {},
     "output_type": "execute_result"
    }
   ],
   "source": [
    "c_m = confusion_matrix(y_test,y_pred)\n",
    "c_m"
   ]
  },
  {
   "cell_type": "code",
   "execution_count": 82,
   "id": "2726517d",
   "metadata": {},
   "outputs": [
    {
     "data": {
      "text/plain": [
       "0.9367698868904135"
      ]
     },
     "execution_count": 82,
     "metadata": {},
     "output_type": "execute_result"
    }
   ],
   "source": [
    "accuracy_score(y_test,y_pred)"
   ]
  },
  {
   "cell_type": "code",
   "execution_count": 83,
   "id": "8003b211",
   "metadata": {},
   "outputs": [
    {
     "data": {
      "text/plain": [
       "<sklearn.metrics._plot.confusion_matrix.ConfusionMatrixDisplay at 0x7fb0e8e60460>"
      ]
     },
     "execution_count": 83,
     "metadata": {},
     "output_type": "execute_result"
    },
    {
     "data": {
      "image/png": "[encoded data removed]",
      "text/plain": [
       "<Figure size 432x288 with 2 Axes>"
      ]
     },
     "metadata": {},
     "output_type": "display_data"
    }
   ],
   "source": [
    "plot_confusion_matrix(knn,X_test,y_test)"
   ]
  },
  {
   "cell_type": "code",
   "execution_count": 84,
   "id": "84f12555",
   "metadata": {},
   "outputs": [
    {
     "data": {
      "image/png": "[encoded data removed]",
      "text/plain": [
       "<Figure size 432x288 with 1 Axes>"
      ]
     },
     "metadata": {},
     "output_type": "display_data"
    }
   ],
   "source": [
    "import sklearn.metrics as metrics\n",
    "y_pred_proba = lr.predict_proba(X_test)[::,1]\n",
    "fpr, tpr, _ = metrics.roc_curve(y_test,  y_pred_proba, pos_label = 'Yes')\n",
    "auc = metrics.roc_auc_score(y_test, y_pred_proba)\n",
    "plt.plot(fpr,tpr,label=\"data 1, auc=\"+str(auc))\n",
    "plt.plot([0,1],[0,1],'r--')          # add the red line to the middle of the plot\n",
    "plt.legend(loc=4)\n",
    "plt.show()"
   ]
  },
  {
   "cell_type": "code",
   "execution_count": 85,
   "id": "d73f6579",
   "metadata": {},
   "outputs": [
    {
     "data": {
      "text/plain": [
       "{'fit_time': array([0.03720212, 0.04510117, 0.03592205, 0.04524088, 0.04566813,\n",
       "        0.04886484]),\n",
       " 'score_time': array([0.0101409 , 0.01337695, 0.01038313, 0.01665211, 0.01052713,\n",
       "        0.01004195]),\n",
       " 'test_score': array([0.50241234, 0.5166688 , 0.54920334, 0.54361516, 0.53361999,\n",
       "        0.53754145])}"
      ]
     },
     "execution_count": 85,
     "metadata": {},
     "output_type": "execute_result"
    }
   ],
   "source": [
    "scores = cross_validate(model,X_train,y_train, cv = 6, n_jobs=-1, scoring = 'f1_macro')\n",
    "scores"
   ]
  },
  {
   "cell_type": "markdown",
   "id": "88813f6f",
   "metadata": {},
   "source": [
    "**Summary of the results of this model:**\n",
    "- accuracy score = 0.93\n",
    "- auc score = 0.75\n",
    "- f1 scores are around 0.52.\n",
    "\n",
    "Knn is prety much same with Tomek Link."
   ]
  },
  {
   "cell_type": "code",
   "execution_count": null,
   "id": "514e897d",
   "metadata": {},
   "outputs": [],
   "source": []
  },
  {
   "cell_type": "code",
   "execution_count": null,
   "id": "576211a2",
   "metadata": {},
   "outputs": [],
   "source": []
  }
 ],
 "metadata": {
  "kernelspec": {
   "display_name": "Python 3 (ipykernel)",
   "language": "python",
   "name": "python3"
  },
  "language_info": {
   "codemirror_mode": {
    "name": "ipython",
    "version": 3
   },
   "file_extension": ".py",
   "mimetype": "text/x-python",
   "name": "python",
   "nbconvert_exporter": "python",
   "pygments_lexer": "ipython3",
   "version": "3.9.7"
  },
  "toc": {
   "base_numbering": 1,
   "nav_menu": {},
   "number_sections": true,
   "sideBar": true,
   "skip_h1_title": false,
   "title_cell": "",
   "title_sidebar": "Contents",
   "toc_cell": true,
   "toc_position": {
    "height": "571.094px",
    "left": "10px",
    "top": "150px",
    "width": "231.516px"
   },
   "toc_section_display": true,
   "toc_window_display": true
  }
 },
 "nbformat": 4,
 "nbformat_minor": 5
}
